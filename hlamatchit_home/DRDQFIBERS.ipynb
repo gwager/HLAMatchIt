{
 "cells": [
  {
   "cell_type": "code",
   "execution_count": 1,
   "id": "520a5b2f-71c1-4518-9dda-61e4e46221ff",
   "metadata": {},
   "outputs": [
    {
     "name": "stdout",
     "output_type": "stream",
     "text": [
      "Missing Sequence:HLA-DPA1*01:04\n",
      "Missing Sequence:HLA-DRB1*03:01:23\n",
      "Missing Sequence:HLA-DRB1*03:10\n",
      "Missing Sequence:HLA-DRB1*04:176\n",
      "Missing Sequence:HLA-DRB1*04:185\n",
      "Missing Sequence:HLA-DRB1*07:27\n",
      "Missing Sequence:HLA-DRB1*07:28\n",
      "Missing Sequence:HLA-DRB1*07:35\n",
      "Missing Sequence:HLA-DRB1*08:63\n",
      "Missing Sequence:HLA-DRB1*09:01:10\n",
      "Missing Sequence:HLA-DRB1*09:22\n",
      "Missing Sequence:HLA-DRB1*09:24\n",
      "Missing Sequence:HLA-DRB1*10:01:05\n",
      "Missing Sequence:HLA-DRB1*11:149\n",
      "Missing Sequence:HLA-DRB1*11:154\n",
      "Missing Sequence:HLA-DRB1*11:170\n",
      "Missing Sequence:HLA-DRB1*12:02:06\n",
      "Missing Sequence:HLA-DRB1*12:16:03\n",
      "Missing Sequence:HLA-DRB1*12:41\n",
      "Missing Sequence:HLA-DRB1*12:42\n",
      "Missing Sequence:HLA-DRB1*12:43\n",
      "Missing Sequence:HLA-DRB1*13:12:04\n",
      "Missing Sequence:HLA-DRB1*14:144\n",
      "Missing Sequence:HLA-DRB1*15:07:03\n",
      "Missing Sequence:HLA-DRB1*15:114\n",
      "Missing Sequence:HLA-DRB1*16:02:04\n",
      "Missing Sequence:HLA-DRB1*16:09:02\n"
     ]
    }
   ],
   "source": [
    "import aa_fibers\n",
    "from aa_fibers import antigen2HFalleleE\n",
    "from aa_fibers import getAAgenostringmatchE\n",
    "from aa_fibers import drfibersprob"
   ]
  },
  {
   "cell_type": "code",
   "execution_count": 4,
   "id": "a5737843-55bb-44df-b5f6-34397e99fe5d",
   "metadata": {},
   "outputs": [
    {
     "name": "stdout",
     "output_type": "stream",
     "text": [
      "Race: CAU antigen: DR2\n",
      "Alleles from OPTN selected by antigen2allele function: ['DRB1*15:01', 'DRB1*15:02', 'DRB1*15:03', 'DRB1*15:04', 'DRB1*15:05', 'DRB1*15:06', 'DRB1*15:07', 'DRB1*15:08', 'DRB1*15:09', 'DRB1*15:10', 'DRB1*15:100', 'DRB1*15:101', 'DRB1*15:102', 'DRB1*15:103', 'DRB1*15:104', 'DRB1*15:105', 'DRB1*15:106', 'DRB1*15:107', 'DRB1*15:108', 'DRB1*15:109', 'DRB1*15:11', 'DRB1*15:110', 'DRB1*15:111', 'DRB1*15:112', 'DRB1*15:114', 'DRB1*15:116', 'DRB1*15:117', 'DRB1*15:118', 'DRB1*15:119', 'DRB1*15:12', 'DRB1*15:120', 'DRB1*15:121', 'DRB1*15:122', 'DRB1*15:123', 'DRB1*15:124', 'DRB1*15:125', 'DRB1*15:126', 'DRB1*15:127', 'DRB1*15:128', 'DRB1*15:13', 'DRB1*15:130', 'DRB1*15:131', 'DRB1*15:132', 'DRB1*15:133', 'DRB1*15:135', 'DRB1*15:136', 'DRB1*15:139', 'DRB1*15:14', 'DRB1*15:140', 'DRB1*15:141', 'DRB1*15:142', 'DRB1*15:143', 'DRB1*15:144', 'DRB1*15:145', 'DRB1*15:146', 'DRB1*15:147', 'DRB1*15:149', 'DRB1*15:15', 'DRB1*15:150', 'DRB1*15:151', 'DRB1*15:152', 'DRB1*15:153', 'DRB1*15:155', 'DRB1*15:156', 'DRB1*15:157', 'DRB1*15:158', 'DRB1*15:16', 'DRB1*15:160', 'DRB1*15:161', 'DRB1*15:162', 'DRB1*15:164Q', 'DRB1*15:165', 'DRB1*15:166', 'DRB1*15:167', 'DRB1*15:168', 'DRB1*15:169', 'DRB1*15:170', 'DRB1*15:171', 'DRB1*15:172', 'DRB1*15:173', 'DRB1*15:174', 'DRB1*15:175', 'DRB1*15:177', 'DRB1*15:178', 'DRB1*15:179', 'DRB1*15:18', 'DRB1*15:181', 'DRB1*15:182', 'DRB1*15:184', 'DRB1*15:185', 'DRB1*15:186', 'DRB1*15:187', 'DRB1*15:188', 'DRB1*15:189', 'DRB1*15:19', 'DRB1*15:190', 'DRB1*15:191', 'DRB1*15:192', 'DRB1*15:20', 'DRB1*15:21', 'DRB1*15:22', 'DRB1*15:23', 'DRB1*15:24', 'DRB1*15:25', 'DRB1*15:26', 'DRB1*15:27', 'DRB1*15:28', 'DRB1*15:29', 'DRB1*15:30', 'DRB1*15:31', 'DRB1*15:32', 'DRB1*15:33', 'DRB1*15:34', 'DRB1*15:35', 'DRB1*15:36', 'DRB1*15:37', 'DRB1*15:38', 'DRB1*15:39', 'DRB1*15:40', 'DRB1*15:41', 'DRB1*15:42', 'DRB1*15:43', 'DRB1*15:44', 'DRB1*15:45', 'DRB1*15:46', 'DRB1*15:47', 'DRB1*15:48', 'DRB1*15:49', 'DRB1*15:51', 'DRB1*15:52', 'DRB1*15:53', 'DRB1*15:54', 'DRB1*15:55', 'DRB1*15:56', 'DRB1*15:57', 'DRB1*15:58', 'DRB1*15:59', 'DRB1*15:60', 'DRB1*15:61', 'DRB1*15:62', 'DRB1*15:63', 'DRB1*15:64', 'DRB1*15:65', 'DRB1*15:66', 'DRB1*15:67', 'DRB1*15:68', 'DRB1*15:69', 'DRB1*15:70', 'DRB1*15:71', 'DRB1*15:72', 'DRB1*15:73', 'DRB1*15:74', 'DRB1*15:75', 'DRB1*15:76', 'DRB1*15:77', 'DRB1*15:78', 'DRB1*15:79', 'DRB1*15:81', 'DRB1*15:82', 'DRB1*15:83', 'DRB1*15:84', 'DRB1*15:85', 'DRB1*15:86', 'DRB1*15:87', 'DRB1*15:88', 'DRB1*15:89', 'DRB1*15:90', 'DRB1*15:91', 'DRB1*15:92', 'DRB1*15:93', 'DRB1*15:94', 'DRB1*15:95', 'DRB1*15:96', 'DRB1*15:97', 'DRB1*15:98', 'DRB1*15:99', 'DRB1*16:01', 'DRB1*16:02', 'DRB1*16:03', 'DRB1*16:04', 'DRB1*16:05', 'DRB1*16:07', 'DRB1*16:08', 'DRB1*16:09', 'DRB1*16:10', 'DRB1*16:11', 'DRB1*16:12', 'DRB1*16:14', 'DRB1*16:15', 'DRB1*16:16', 'DRB1*16:17', 'DRB1*16:18', 'DRB1*16:19', 'DRB1*16:20', 'DRB1*16:22', 'DRB1*16:23', 'DRB1*16:24', 'DRB1*16:25', 'DRB1*16:26', 'DRB1*16:27', 'DRB1*16:28', 'DRB1*16:29', 'DRB1*16:30', 'DRB1*16:31', 'DRB1*16:32', 'DRB1*16:33', 'DRB1*16:34', 'DRB1*16:35', 'DRB1*16:36', 'DRB1*16:37', 'DRB1*16:38', 'DRB1*16:39', 'DRB1*16:40', 'DRB1*16:42', 'DRB1*16:43', 'DRB1*16:44', 'DRB1*16:45', 'DRB1*16:46', 'DRB1*16:47', 'DRB1*16:48', 'DRB1*16:49', 'DRB1*16:50', 'DRB1*16:51', 'DRB1*16:52', 'DRB1*16:53', 'DRB1*16:54', 'DRB1*16:56', 'DRB1*16:57', 'DRB1*16:58', 'DRB1*16:59Q', 'DRB1*16:60', 'DRB1*16:61', 'DRB1*16:64', 'DRB1*16:65', 'DRB1*16:66', 'DRB1*16:67', 'DRB1*16:68', 'DRB1*16:69']\n",
      "Only Alleles with frequency in Genetic Reference Population: {'DRB1*15:01': 0.12889190137332515, 'DRB1*15:02': 0.009027562151077284, 'DRB1*15:03': 0.0005372634238070714, 'DRB1*15:04': 2.4835769727794505e-05, 'DRB1*15:05': 5.345584902064927e-07, 'DRB1*15:06': 3.147844585145783e-05, 'DRB1*15:07': 1.2252029295008206e-05, 'DRB1*15:09': 8.023517196490841e-07, 'DRB1*15:10': 6.226619514191549e-06, 'DRB1*15:11': 3.9883425704601265e-07, 'DRB1*15:18': 3.5330698787731665e-06, 'DRB1*15:22': 6.821783508646884e-06, 'DRB1*15:24': 5.170167938810309e-06, 'DRB1*15:88': 6.010199150846607e-07, 'DRB1*16:01': 0.014857559188374775, 'DRB1*16:02': 0.0017451780353413776, 'DRB1*16:04': 9.080305215792782e-06, 'DRB1*16:05': 3.1448922049828316e-05, 'DRB1*16:07': 1.4319146763323862e-05}\n",
      "Sum of Allele Frequencies for Probability Calcs: 0.15520696719605123\n",
      "Most probable Allele and its Frequency: DRB1*15:01 0.12889190137332515\n",
      "Prob check function calculating Allele level Probs using AlleleFreq/AntigenFreq for every possible Allele: ['DRB1*15:01', 0.8304517748260235, 'DRB1*15:02', 0.058164670788741255, 'DRB1*15:03', 0.0034615934678268777, 'DRB1*15:04', 0.0001600171060389509, 'DRB1*15:05', 3.4441655543159977e-06, 'DRB1*15:06', 0.00020281593294517195, 'DRB1*15:07', 7.893994397514341e-05, 'DRB1*15:09', 5.1695599375741006e-06, 'DRB1*15:10', 4.011817012264876e-05, 'DRB1*15:11', 2.569692999298293e-06, 'DRB1*15:18', 2.2763603610077206e-05, 'DRB1*15:22', 4.3952817530606595e-05, 'DRB1*15:24', 3.331144234188636e-05, 'DRB1*15:88', 3.872377161557937e-06, 'DRB1*16:01', 0.09572739843313413, 'DRB1*16:02', 0.01124419906444624, 'DRB1*16:04', 5.8504494867958495e-05, 'DRB1*16:05', 0.00020262571080396986, 'DRB1*16:07', 9.225840193911197e-05]\n",
      "Most Probable Alleles Probability: 0.8304517748260235\n",
      "Race: CAU antigen: DR2\n",
      "Alleles from OPTN selected by antigen2allele function: ['DRB1*15:01', 'DRB1*15:02', 'DRB1*15:03', 'DRB1*15:04', 'DRB1*15:05', 'DRB1*15:06', 'DRB1*15:07', 'DRB1*15:08', 'DRB1*15:09', 'DRB1*15:10', 'DRB1*15:100', 'DRB1*15:101', 'DRB1*15:102', 'DRB1*15:103', 'DRB1*15:104', 'DRB1*15:105', 'DRB1*15:106', 'DRB1*15:107', 'DRB1*15:108', 'DRB1*15:109', 'DRB1*15:11', 'DRB1*15:110', 'DRB1*15:111', 'DRB1*15:112', 'DRB1*15:114', 'DRB1*15:116', 'DRB1*15:117', 'DRB1*15:118', 'DRB1*15:119', 'DRB1*15:12', 'DRB1*15:120', 'DRB1*15:121', 'DRB1*15:122', 'DRB1*15:123', 'DRB1*15:124', 'DRB1*15:125', 'DRB1*15:126', 'DRB1*15:127', 'DRB1*15:128', 'DRB1*15:13', 'DRB1*15:130', 'DRB1*15:131', 'DRB1*15:132', 'DRB1*15:133', 'DRB1*15:135', 'DRB1*15:136', 'DRB1*15:139', 'DRB1*15:14', 'DRB1*15:140', 'DRB1*15:141', 'DRB1*15:142', 'DRB1*15:143', 'DRB1*15:144', 'DRB1*15:145', 'DRB1*15:146', 'DRB1*15:147', 'DRB1*15:149', 'DRB1*15:15', 'DRB1*15:150', 'DRB1*15:151', 'DRB1*15:152', 'DRB1*15:153', 'DRB1*15:155', 'DRB1*15:156', 'DRB1*15:157', 'DRB1*15:158', 'DRB1*15:16', 'DRB1*15:160', 'DRB1*15:161', 'DRB1*15:162', 'DRB1*15:164Q', 'DRB1*15:165', 'DRB1*15:166', 'DRB1*15:167', 'DRB1*15:168', 'DRB1*15:169', 'DRB1*15:170', 'DRB1*15:171', 'DRB1*15:172', 'DRB1*15:173', 'DRB1*15:174', 'DRB1*15:175', 'DRB1*15:177', 'DRB1*15:178', 'DRB1*15:179', 'DRB1*15:18', 'DRB1*15:181', 'DRB1*15:182', 'DRB1*15:184', 'DRB1*15:185', 'DRB1*15:186', 'DRB1*15:187', 'DRB1*15:188', 'DRB1*15:189', 'DRB1*15:19', 'DRB1*15:190', 'DRB1*15:191', 'DRB1*15:192', 'DRB1*15:20', 'DRB1*15:21', 'DRB1*15:22', 'DRB1*15:23', 'DRB1*15:24', 'DRB1*15:25', 'DRB1*15:26', 'DRB1*15:27', 'DRB1*15:28', 'DRB1*15:29', 'DRB1*15:30', 'DRB1*15:31', 'DRB1*15:32', 'DRB1*15:33', 'DRB1*15:34', 'DRB1*15:35', 'DRB1*15:36', 'DRB1*15:37', 'DRB1*15:38', 'DRB1*15:39', 'DRB1*15:40', 'DRB1*15:41', 'DRB1*15:42', 'DRB1*15:43', 'DRB1*15:44', 'DRB1*15:45', 'DRB1*15:46', 'DRB1*15:47', 'DRB1*15:48', 'DRB1*15:49', 'DRB1*15:51', 'DRB1*15:52', 'DRB1*15:53', 'DRB1*15:54', 'DRB1*15:55', 'DRB1*15:56', 'DRB1*15:57', 'DRB1*15:58', 'DRB1*15:59', 'DRB1*15:60', 'DRB1*15:61', 'DRB1*15:62', 'DRB1*15:63', 'DRB1*15:64', 'DRB1*15:65', 'DRB1*15:66', 'DRB1*15:67', 'DRB1*15:68', 'DRB1*15:69', 'DRB1*15:70', 'DRB1*15:71', 'DRB1*15:72', 'DRB1*15:73', 'DRB1*15:74', 'DRB1*15:75', 'DRB1*15:76', 'DRB1*15:77', 'DRB1*15:78', 'DRB1*15:79', 'DRB1*15:81', 'DRB1*15:82', 'DRB1*15:83', 'DRB1*15:84', 'DRB1*15:85', 'DRB1*15:86', 'DRB1*15:87', 'DRB1*15:88', 'DRB1*15:89', 'DRB1*15:90', 'DRB1*15:91', 'DRB1*15:92', 'DRB1*15:93', 'DRB1*15:94', 'DRB1*15:95', 'DRB1*15:96', 'DRB1*15:97', 'DRB1*15:98', 'DRB1*15:99', 'DRB1*16:01', 'DRB1*16:02', 'DRB1*16:03', 'DRB1*16:04', 'DRB1*16:05', 'DRB1*16:07', 'DRB1*16:08', 'DRB1*16:09', 'DRB1*16:10', 'DRB1*16:11', 'DRB1*16:12', 'DRB1*16:14', 'DRB1*16:15', 'DRB1*16:16', 'DRB1*16:17', 'DRB1*16:18', 'DRB1*16:19', 'DRB1*16:20', 'DRB1*16:22', 'DRB1*16:23', 'DRB1*16:24', 'DRB1*16:25', 'DRB1*16:26', 'DRB1*16:27', 'DRB1*16:28', 'DRB1*16:29', 'DRB1*16:30', 'DRB1*16:31', 'DRB1*16:32', 'DRB1*16:33', 'DRB1*16:34', 'DRB1*16:35', 'DRB1*16:36', 'DRB1*16:37', 'DRB1*16:38', 'DRB1*16:39', 'DRB1*16:40', 'DRB1*16:42', 'DRB1*16:43', 'DRB1*16:44', 'DRB1*16:45', 'DRB1*16:46', 'DRB1*16:47', 'DRB1*16:48', 'DRB1*16:49', 'DRB1*16:50', 'DRB1*16:51', 'DRB1*16:52', 'DRB1*16:53', 'DRB1*16:54', 'DRB1*16:56', 'DRB1*16:57', 'DRB1*16:58', 'DRB1*16:59Q', 'DRB1*16:60', 'DRB1*16:61', 'DRB1*16:64', 'DRB1*16:65', 'DRB1*16:66', 'DRB1*16:67', 'DRB1*16:68', 'DRB1*16:69']\n",
      "Only Alleles with frequency in Genetic Reference Population: {'DRB1*15:01': 0.12889190137332515, 'DRB1*15:02': 0.009027562151077284, 'DRB1*15:03': 0.0005372634238070714, 'DRB1*15:04': 2.4835769727794505e-05, 'DRB1*15:05': 5.345584902064927e-07, 'DRB1*15:06': 3.147844585145783e-05, 'DRB1*15:07': 1.2252029295008206e-05, 'DRB1*15:09': 8.023517196490841e-07, 'DRB1*15:10': 6.226619514191549e-06, 'DRB1*15:11': 3.9883425704601265e-07, 'DRB1*15:18': 3.5330698787731665e-06, 'DRB1*15:22': 6.821783508646884e-06, 'DRB1*15:24': 5.170167938810309e-06, 'DRB1*15:88': 6.010199150846607e-07, 'DRB1*16:01': 0.014857559188374775, 'DRB1*16:02': 0.0017451780353413776, 'DRB1*16:04': 9.080305215792782e-06, 'DRB1*16:05': 3.1448922049828316e-05, 'DRB1*16:07': 1.4319146763323862e-05}\n",
      "Sum of Allele Frequencies for Probability Calcs: 0.15520696719605123\n",
      "Most probable Allele and its Frequency: DRB1*15:01 0.12889190137332515\n",
      "Prob check function calculating Allele level Probs using AlleleFreq/AntigenFreq for every possible Allele: ['DRB1*15:01', 0.8304517748260235, 'DRB1*15:02', 0.058164670788741255, 'DRB1*15:03', 0.0034615934678268777, 'DRB1*15:04', 0.0001600171060389509, 'DRB1*15:05', 3.4441655543159977e-06, 'DRB1*15:06', 0.00020281593294517195, 'DRB1*15:07', 7.893994397514341e-05, 'DRB1*15:09', 5.1695599375741006e-06, 'DRB1*15:10', 4.011817012264876e-05, 'DRB1*15:11', 2.569692999298293e-06, 'DRB1*15:18', 2.2763603610077206e-05, 'DRB1*15:22', 4.3952817530606595e-05, 'DRB1*15:24', 3.331144234188636e-05, 'DRB1*15:88', 3.872377161557937e-06, 'DRB1*16:01', 0.09572739843313413, 'DRB1*16:02', 0.01124419906444624, 'DRB1*16:04', 5.8504494867958495e-05, 'DRB1*16:05', 0.00020262571080396986, 'DRB1*16:07', 9.225840193911197e-05]\n",
      "Most Probable Alleles Probability: 0.8304517748260235\n",
      "Race: AFA antigen: DR2\n",
      "Alleles from OPTN selected by antigen2allele function: ['DRB1*15:01', 'DRB1*15:02', 'DRB1*15:03', 'DRB1*15:04', 'DRB1*15:05', 'DRB1*15:06', 'DRB1*15:07', 'DRB1*15:08', 'DRB1*15:09', 'DRB1*15:10', 'DRB1*15:100', 'DRB1*15:101', 'DRB1*15:102', 'DRB1*15:103', 'DRB1*15:104', 'DRB1*15:105', 'DRB1*15:106', 'DRB1*15:107', 'DRB1*15:108', 'DRB1*15:109', 'DRB1*15:11', 'DRB1*15:110', 'DRB1*15:111', 'DRB1*15:112', 'DRB1*15:114', 'DRB1*15:116', 'DRB1*15:117', 'DRB1*15:118', 'DRB1*15:119', 'DRB1*15:12', 'DRB1*15:120', 'DRB1*15:121', 'DRB1*15:122', 'DRB1*15:123', 'DRB1*15:124', 'DRB1*15:125', 'DRB1*15:126', 'DRB1*15:127', 'DRB1*15:128', 'DRB1*15:13', 'DRB1*15:130', 'DRB1*15:131', 'DRB1*15:132', 'DRB1*15:133', 'DRB1*15:135', 'DRB1*15:136', 'DRB1*15:139', 'DRB1*15:14', 'DRB1*15:140', 'DRB1*15:141', 'DRB1*15:142', 'DRB1*15:143', 'DRB1*15:144', 'DRB1*15:145', 'DRB1*15:146', 'DRB1*15:147', 'DRB1*15:149', 'DRB1*15:15', 'DRB1*15:150', 'DRB1*15:151', 'DRB1*15:152', 'DRB1*15:153', 'DRB1*15:155', 'DRB1*15:156', 'DRB1*15:157', 'DRB1*15:158', 'DRB1*15:16', 'DRB1*15:160', 'DRB1*15:161', 'DRB1*15:162', 'DRB1*15:164Q', 'DRB1*15:165', 'DRB1*15:166', 'DRB1*15:167', 'DRB1*15:168', 'DRB1*15:169', 'DRB1*15:170', 'DRB1*15:171', 'DRB1*15:172', 'DRB1*15:173', 'DRB1*15:174', 'DRB1*15:175', 'DRB1*15:177', 'DRB1*15:178', 'DRB1*15:179', 'DRB1*15:18', 'DRB1*15:181', 'DRB1*15:182', 'DRB1*15:184', 'DRB1*15:185', 'DRB1*15:186', 'DRB1*15:187', 'DRB1*15:188', 'DRB1*15:189', 'DRB1*15:19', 'DRB1*15:190', 'DRB1*15:191', 'DRB1*15:192', 'DRB1*15:20', 'DRB1*15:21', 'DRB1*15:22', 'DRB1*15:23', 'DRB1*15:24', 'DRB1*15:25', 'DRB1*15:26', 'DRB1*15:27', 'DRB1*15:28', 'DRB1*15:29', 'DRB1*15:30', 'DRB1*15:31', 'DRB1*15:32', 'DRB1*15:33', 'DRB1*15:34', 'DRB1*15:35', 'DRB1*15:36', 'DRB1*15:37', 'DRB1*15:38', 'DRB1*15:39', 'DRB1*15:40', 'DRB1*15:41', 'DRB1*15:42', 'DRB1*15:43', 'DRB1*15:44', 'DRB1*15:45', 'DRB1*15:46', 'DRB1*15:47', 'DRB1*15:48', 'DRB1*15:49', 'DRB1*15:51', 'DRB1*15:52', 'DRB1*15:53', 'DRB1*15:54', 'DRB1*15:55', 'DRB1*15:56', 'DRB1*15:57', 'DRB1*15:58', 'DRB1*15:59', 'DRB1*15:60', 'DRB1*15:61', 'DRB1*15:62', 'DRB1*15:63', 'DRB1*15:64', 'DRB1*15:65', 'DRB1*15:66', 'DRB1*15:67', 'DRB1*15:68', 'DRB1*15:69', 'DRB1*15:70', 'DRB1*15:71', 'DRB1*15:72', 'DRB1*15:73', 'DRB1*15:74', 'DRB1*15:75', 'DRB1*15:76', 'DRB1*15:77', 'DRB1*15:78', 'DRB1*15:79', 'DRB1*15:81', 'DRB1*15:82', 'DRB1*15:83', 'DRB1*15:84', 'DRB1*15:85', 'DRB1*15:86', 'DRB1*15:87', 'DRB1*15:88', 'DRB1*15:89', 'DRB1*15:90', 'DRB1*15:91', 'DRB1*15:92', 'DRB1*15:93', 'DRB1*15:94', 'DRB1*15:95', 'DRB1*15:96', 'DRB1*15:97', 'DRB1*15:98', 'DRB1*15:99', 'DRB1*16:01', 'DRB1*16:02', 'DRB1*16:03', 'DRB1*16:04', 'DRB1*16:05', 'DRB1*16:07', 'DRB1*16:08', 'DRB1*16:09', 'DRB1*16:10', 'DRB1*16:11', 'DRB1*16:12', 'DRB1*16:14', 'DRB1*16:15', 'DRB1*16:16', 'DRB1*16:17', 'DRB1*16:18', 'DRB1*16:19', 'DRB1*16:20', 'DRB1*16:22', 'DRB1*16:23', 'DRB1*16:24', 'DRB1*16:25', 'DRB1*16:26', 'DRB1*16:27', 'DRB1*16:28', 'DRB1*16:29', 'DRB1*16:30', 'DRB1*16:31', 'DRB1*16:32', 'DRB1*16:33', 'DRB1*16:34', 'DRB1*16:35', 'DRB1*16:36', 'DRB1*16:37', 'DRB1*16:38', 'DRB1*16:39', 'DRB1*16:40', 'DRB1*16:42', 'DRB1*16:43', 'DRB1*16:44', 'DRB1*16:45', 'DRB1*16:46', 'DRB1*16:47', 'DRB1*16:48', 'DRB1*16:49', 'DRB1*16:50', 'DRB1*16:51', 'DRB1*16:52', 'DRB1*16:53', 'DRB1*16:54', 'DRB1*16:56', 'DRB1*16:57', 'DRB1*16:58', 'DRB1*16:59Q', 'DRB1*16:60', 'DRB1*16:61', 'DRB1*16:64', 'DRB1*16:65', 'DRB1*16:66', 'DRB1*16:67', 'DRB1*16:68', 'DRB1*16:69']\n",
      "Only Alleles with frequency in Genetic Reference Population: {'DRB1*15:01': 0.02589998386585294, 'DRB1*15:02': 0.002378503042318862, 'DRB1*15:03': 0.12067987828529995, 'DRB1*15:04': 3.441954140363948e-06, 'DRB1*15:06': 1.7552455774078113e-05, 'DRB1*15:07': 6.326429182191151e-06, 'DRB1*15:22': 6.448942382784942e-06, 'DRB1*15:23': 3.191958001832798e-05, 'DRB1*15:57': 4.601039405229949e-06, 'DRB1*16:01': 0.0015531520311823214, 'DRB1*16:02': 0.013716359234671719, 'DRB1*16:10': 1.0352338661767385e-05, 'DRB1*16:14': 4.576894294249894e-06}\n",
      "Sum of Allele Frequencies for Probability Calcs: 0.16431309609318476\n",
      "Most probable Allele and its Frequency: DRB1*15:03 0.12067987828529995\n",
      "Prob check function calculating Allele level Probs using AlleleFreq/AntigenFreq for every possible Allele: ['DRB1*15:01', 0.15762580391744682, 'DRB1*15:02', 0.014475431958083077, 'DRB1*15:03', 0.7344507598886721, 'DRB1*15:04', 2.094753383754608e-05, 'DRB1*15:06', 0.00010682323071877251, 'DRB1*15:07', 3.850228212243853e-05, 'DRB1*15:22', 3.9247890375868987e-05, 'DRB1*15:23', 0.00019426071796630162, 'DRB1*15:57', 2.8001659725409968e-05, 'DRB1*16:01', 0.009452393437352689, 'DRB1*16:02', 0.08347696903534053, 'DRB1*16:10', 6.300373438217242e-05, 'DRB1*16:14', 2.7854713976384814e-05]\n",
      "Most Probable Alleles Probability: 0.7344507598886721\n",
      "Race: AFA antigen: DR2\n",
      "Alleles from OPTN selected by antigen2allele function: ['DRB1*15:01', 'DRB1*15:02', 'DRB1*15:03', 'DRB1*15:04', 'DRB1*15:05', 'DRB1*15:06', 'DRB1*15:07', 'DRB1*15:08', 'DRB1*15:09', 'DRB1*15:10', 'DRB1*15:100', 'DRB1*15:101', 'DRB1*15:102', 'DRB1*15:103', 'DRB1*15:104', 'DRB1*15:105', 'DRB1*15:106', 'DRB1*15:107', 'DRB1*15:108', 'DRB1*15:109', 'DRB1*15:11', 'DRB1*15:110', 'DRB1*15:111', 'DRB1*15:112', 'DRB1*15:114', 'DRB1*15:116', 'DRB1*15:117', 'DRB1*15:118', 'DRB1*15:119', 'DRB1*15:12', 'DRB1*15:120', 'DRB1*15:121', 'DRB1*15:122', 'DRB1*15:123', 'DRB1*15:124', 'DRB1*15:125', 'DRB1*15:126', 'DRB1*15:127', 'DRB1*15:128', 'DRB1*15:13', 'DRB1*15:130', 'DRB1*15:131', 'DRB1*15:132', 'DRB1*15:133', 'DRB1*15:135', 'DRB1*15:136', 'DRB1*15:139', 'DRB1*15:14', 'DRB1*15:140', 'DRB1*15:141', 'DRB1*15:142', 'DRB1*15:143', 'DRB1*15:144', 'DRB1*15:145', 'DRB1*15:146', 'DRB1*15:147', 'DRB1*15:149', 'DRB1*15:15', 'DRB1*15:150', 'DRB1*15:151', 'DRB1*15:152', 'DRB1*15:153', 'DRB1*15:155', 'DRB1*15:156', 'DRB1*15:157', 'DRB1*15:158', 'DRB1*15:16', 'DRB1*15:160', 'DRB1*15:161', 'DRB1*15:162', 'DRB1*15:164Q', 'DRB1*15:165', 'DRB1*15:166', 'DRB1*15:167', 'DRB1*15:168', 'DRB1*15:169', 'DRB1*15:170', 'DRB1*15:171', 'DRB1*15:172', 'DRB1*15:173', 'DRB1*15:174', 'DRB1*15:175', 'DRB1*15:177', 'DRB1*15:178', 'DRB1*15:179', 'DRB1*15:18', 'DRB1*15:181', 'DRB1*15:182', 'DRB1*15:184', 'DRB1*15:185', 'DRB1*15:186', 'DRB1*15:187', 'DRB1*15:188', 'DRB1*15:189', 'DRB1*15:19', 'DRB1*15:190', 'DRB1*15:191', 'DRB1*15:192', 'DRB1*15:20', 'DRB1*15:21', 'DRB1*15:22', 'DRB1*15:23', 'DRB1*15:24', 'DRB1*15:25', 'DRB1*15:26', 'DRB1*15:27', 'DRB1*15:28', 'DRB1*15:29', 'DRB1*15:30', 'DRB1*15:31', 'DRB1*15:32', 'DRB1*15:33', 'DRB1*15:34', 'DRB1*15:35', 'DRB1*15:36', 'DRB1*15:37', 'DRB1*15:38', 'DRB1*15:39', 'DRB1*15:40', 'DRB1*15:41', 'DRB1*15:42', 'DRB1*15:43', 'DRB1*15:44', 'DRB1*15:45', 'DRB1*15:46', 'DRB1*15:47', 'DRB1*15:48', 'DRB1*15:49', 'DRB1*15:51', 'DRB1*15:52', 'DRB1*15:53', 'DRB1*15:54', 'DRB1*15:55', 'DRB1*15:56', 'DRB1*15:57', 'DRB1*15:58', 'DRB1*15:59', 'DRB1*15:60', 'DRB1*15:61', 'DRB1*15:62', 'DRB1*15:63', 'DRB1*15:64', 'DRB1*15:65', 'DRB1*15:66', 'DRB1*15:67', 'DRB1*15:68', 'DRB1*15:69', 'DRB1*15:70', 'DRB1*15:71', 'DRB1*15:72', 'DRB1*15:73', 'DRB1*15:74', 'DRB1*15:75', 'DRB1*15:76', 'DRB1*15:77', 'DRB1*15:78', 'DRB1*15:79', 'DRB1*15:81', 'DRB1*15:82', 'DRB1*15:83', 'DRB1*15:84', 'DRB1*15:85', 'DRB1*15:86', 'DRB1*15:87', 'DRB1*15:88', 'DRB1*15:89', 'DRB1*15:90', 'DRB1*15:91', 'DRB1*15:92', 'DRB1*15:93', 'DRB1*15:94', 'DRB1*15:95', 'DRB1*15:96', 'DRB1*15:97', 'DRB1*15:98', 'DRB1*15:99', 'DRB1*16:01', 'DRB1*16:02', 'DRB1*16:03', 'DRB1*16:04', 'DRB1*16:05', 'DRB1*16:07', 'DRB1*16:08', 'DRB1*16:09', 'DRB1*16:10', 'DRB1*16:11', 'DRB1*16:12', 'DRB1*16:14', 'DRB1*16:15', 'DRB1*16:16', 'DRB1*16:17', 'DRB1*16:18', 'DRB1*16:19', 'DRB1*16:20', 'DRB1*16:22', 'DRB1*16:23', 'DRB1*16:24', 'DRB1*16:25', 'DRB1*16:26', 'DRB1*16:27', 'DRB1*16:28', 'DRB1*16:29', 'DRB1*16:30', 'DRB1*16:31', 'DRB1*16:32', 'DRB1*16:33', 'DRB1*16:34', 'DRB1*16:35', 'DRB1*16:36', 'DRB1*16:37', 'DRB1*16:38', 'DRB1*16:39', 'DRB1*16:40', 'DRB1*16:42', 'DRB1*16:43', 'DRB1*16:44', 'DRB1*16:45', 'DRB1*16:46', 'DRB1*16:47', 'DRB1*16:48', 'DRB1*16:49', 'DRB1*16:50', 'DRB1*16:51', 'DRB1*16:52', 'DRB1*16:53', 'DRB1*16:54', 'DRB1*16:56', 'DRB1*16:57', 'DRB1*16:58', 'DRB1*16:59Q', 'DRB1*16:60', 'DRB1*16:61', 'DRB1*16:64', 'DRB1*16:65', 'DRB1*16:66', 'DRB1*16:67', 'DRB1*16:68', 'DRB1*16:69']\n",
      "Only Alleles with frequency in Genetic Reference Population: {'DRB1*15:01': 0.02589998386585294, 'DRB1*15:02': 0.002378503042318862, 'DRB1*15:03': 0.12067987828529995, 'DRB1*15:04': 3.441954140363948e-06, 'DRB1*15:06': 1.7552455774078113e-05, 'DRB1*15:07': 6.326429182191151e-06, 'DRB1*15:22': 6.448942382784942e-06, 'DRB1*15:23': 3.191958001832798e-05, 'DRB1*15:57': 4.601039405229949e-06, 'DRB1*16:01': 0.0015531520311823214, 'DRB1*16:02': 0.013716359234671719, 'DRB1*16:10': 1.0352338661767385e-05, 'DRB1*16:14': 4.576894294249894e-06}\n",
      "Sum of Allele Frequencies for Probability Calcs: 0.16431309609318476\n",
      "Most probable Allele and its Frequency: DRB1*15:03 0.12067987828529995\n",
      "Prob check function calculating Allele level Probs using AlleleFreq/AntigenFreq for every possible Allele: ['DRB1*15:01', 0.15762580391744682, 'DRB1*15:02', 0.014475431958083077, 'DRB1*15:03', 0.7344507598886721, 'DRB1*15:04', 2.094753383754608e-05, 'DRB1*15:06', 0.00010682323071877251, 'DRB1*15:07', 3.850228212243853e-05, 'DRB1*15:22', 3.9247890375868987e-05, 'DRB1*15:23', 0.00019426071796630162, 'DRB1*15:57', 2.8001659725409968e-05, 'DRB1*16:01', 0.009452393437352689, 'DRB1*16:02', 0.08347696903534053, 'DRB1*16:10', 6.300373438217242e-05, 'DRB1*16:14', 2.7854713976384814e-05]\n",
      "Most Probable Alleles Probability: 0.7344507598886721\n",
      "R DR genotype probability: 0.7344507598886721\n",
      "D DR genotype probability: 0.8304517748260235\n"
     ]
    }
   ],
   "source": [
    "#E functions to show enumeration of AA-MM probabilities\n",
    "#Only difference from normal functions are the print statements and probabilities being calculated inside of the getAAgenostringmatchE function\n",
    "\n",
    "dalldr1,dfdr1,dnalldr1,ddr1sumant,ddr1allelefreqs,d1prob = antigen2HFalleleE(\"CAU\",\"DR2\")\n",
    "dalldr2,dfdr2,dnalldr2, ddr2sumant,ddr2allelefreqs, d2prob = antigen2HFalleleE(\"CAU\",\"DR2\")\n",
    "    \n",
    "ralldr1,rfdr1,rnalldr1,rdr1sumant,rdr1allelefreqs,r1prob = antigen2HFalleleE(\"AFA\",\"DR2\")\n",
    "ralldr2,rfdr2,rnalldr2,rdr2sumant,rdr2allelefreqs,r2prob = antigen2HFalleleE(\"AFA\",\"DR2\")\n",
    "\n",
    "rprob = (r1prob +r2prob)/2\n",
    "print(\"R DR genotype probability:\", rprob)\n",
    "dprob = (d1prob +d2prob)/2\n",
    "print(\"D DR genotype probability:\", dprob)"
   ]
  },
  {
   "cell_type": "code",
   "execution_count": 3,
   "id": "98ba4ebe-7bb0-4ea3-b28c-6f6d704f856f",
   "metadata": {},
   "outputs": [
    {
     "name": "stdout",
     "output_type": "stream",
     "text": [
      "getAAgenostringmatchE AA-MM: 9 WW + WW\n",
      "Probability,1-(rprob+dprob/2), of AA-MM given matching assignments for the most probable genotypes: 0.21754873264265218\n",
      "getAAgenostringmatchE AA-MM: 10 QQ + QQ\n",
      "Probability,1-(rprob+dprob/2), of AA-MM given matching assignments for the most probable genotypes: 0.21754873264265218\n",
      "getAAgenostringmatchE AA-MM: 11 PP + PP\n",
      "Probability,1-(rprob+dprob/2), of AA-MM given matching assignments for the most probable genotypes: 0.21754873264265218\n",
      "getAAgenostringmatchE AA-MM: 12 KK + KK\n",
      "Probability,1-(rprob+dprob/2), of AA-MM given matching assignments for the most probable genotypes: 0.21754873264265218\n",
      "getAAgenostringmatchE AA-MM: 13 RR + RR\n",
      "Probability,1-(rprob+dprob/2), of AA-MM given matching assignments for the most probable genotypes: 0.21754873264265218\n",
      "getAAgenostringmatchE AA-MM: 26 FF + FF\n",
      "Probability,1-(rprob+dprob/2), of AA-MM given matching assignments for the most probable genotypes: 0.21754873264265218\n",
      "getAAgenostringmatchE AA-MM: 28 DD + DD\n",
      "Probability,1-(rprob+dprob/2), of AA-MM given matching assignments for the most probable genotypes: 0.21754873264265218\n",
      "getAAgenostringmatchE AA-MM: 30 HH + YY\n",
      "Probability, rprob+dprob/2, of AA-MM given mismatching assignments for the most probable genotypes: 0.7824512673573478\n"
     ]
    }
   ],
   "source": [
    "drloc = \"DRB1\"\n",
    "dDRa1,dDRa2,rDRa1,rDRa2,DRcount,DRpos,DRpos1,DRend_pos = getAAgenostringmatchE(dalldr1,dalldr2,ralldr1,ralldr2, drloc, dprob,rprob)"
   ]
  },
  {
   "cell_type": "code",
   "execution_count": null,
   "id": "a97cd7d3-33c4-41d5-b78d-42799cf815a1",
   "metadata": {},
   "outputs": [],
   "source": []
  }
 ],
 "metadata": {
  "kernelspec": {
   "display_name": "Python 3 (ipykernel)",
   "language": "python",
   "name": "python3"
  },
  "language_info": {
   "codemirror_mode": {
    "name": "ipython",
    "version": 3
   },
   "file_extension": ".py",
   "mimetype": "text/x-python",
   "name": "python",
   "nbconvert_exporter": "python",
   "pygments_lexer": "ipython3",
   "version": "3.10.5"
  }
 },
 "nbformat": 4,
 "nbformat_minor": 5
}
